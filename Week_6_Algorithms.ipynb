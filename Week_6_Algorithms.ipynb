{
 "cells": [
  {
   "cell_type": "markdown",
   "id": "6670ceb1",
   "metadata": {},
   "source": [
    "# Algorithms for Week 6"
   ]
  },
  {
   "cell_type": "markdown",
   "id": "0a27f3b4",
   "metadata": {},
   "source": [
    "These algorithm will be used in the solutions for the week 6 Q&A questions."
   ]
  },
  {
   "cell_type": "markdown",
   "id": "eab95897",
   "metadata": {},
   "source": [
    "## GP-UCB"
   ]
  },
  {
   "cell_type": "code",
   "execution_count": null,
   "id": "fcba796b",
   "metadata": {},
   "outputs": [],
   "source": [
    "kernel0 = C(1.0, (1e-3, 1e3)) * RBF(10, (1e-2, 1e2))\n",
    "\n",
    "def FitGP(myenv, kernel=kernel0):\n",
    "    # define gp object that will be used to fit model\n",
    "    #kernel = C(1.0, (1e-3, 1e3)) * RBF(10, (1e-2, 1e2))\n",
    "    gp = GaussianProcessRegressor(kernel=kernel, alpha=myenv.var+1e-10, n_restarts_optimizer=1)\n",
    "    \n",
    "    # fit to data\n",
    "    gp.fit(myenv.xhist.reshape(-1,1), myenv.yhist)\n",
    "    \n",
    "    return gp\n",
    "\n",
    "#computes upper confidence bound at x\n",
    "def UCB(gp, x, T, GPEnv):\n",
    "    mean, sd = gp.predict(np.array(x).reshape(-1,1), return_std=True)\n",
    "    beta = np.sqrt(2*np.log(np.pi**2*(GPEnv.xmax-GPEnv.xmin)*T*len(GPEnv.yhist)**2/6)) ##############################CHECK\n",
    "    return mean + beta*sd"
   ]
  },
  {
   "cell_type": "code",
   "execution_count": null,
   "id": "b0b1e8e3",
   "metadata": {},
   "outputs": [],
   "source": [
    "def GPUCB(T,GPEnv,xmin,xmax,kernel=kernel0):\n",
    "    myenv = GPEnv\n",
    "    myenv.reset()\n",
    "    \n",
    "    # first sample must be random\n",
    "    x = np.random.uniform(xmin,xmax)\n",
    "    y = myenv.play(x)\n",
    "    \n",
    "    rew = np.zeros(T) \n",
    "    reg = np.zeros(T) \n",
    "    rew[0] = y\n",
    "    reg[0] = myenv.maxrew - myenv.f(x)\n",
    "    \n",
    "    \n",
    "    for t in range(1,T):\n",
    "        gp = FitGP(myenv,kernel)\n",
    "        #choose x with the largest UCB\n",
    "        myx = fminbound(lambda x: -UCB(gp,x,T,myenv),xmin,xmax)\n",
    "        y = myenv.play(myx)\n",
    "        rew[t] = y\n",
    "        reg[t] = myenv.maxrew - myenv.f(myx)\n",
    "\n",
    "    return rew, reg"
   ]
  },
  {
   "cell_type": "markdown",
   "id": "e39e080a",
   "metadata": {},
   "source": [
    "## GP Thompson Sampling"
   ]
  },
  {
   "cell_type": "code",
   "execution_count": null,
   "id": "963a1105",
   "metadata": {},
   "outputs": [],
   "source": [
    "def GP_Thompson(T,GPEnv,xmin,xmax,kernel=kernel0):\n",
    "    myenv = GPEnv\n",
    "    myenv.reset()\n",
    "    # first sample must be random\n",
    "    x = np.random.uniform(xmin,xmax)\n",
    "    y = myenv.play(x)\n",
    "    \n",
    "    rew = np.zeros(T) \n",
    "    reg = np.zeros(T) \n",
    "    rew[0] = y\n",
    "    reg[0] = myenv.maxrew - myenv.f(x)\n",
    "    \n",
    "    #define set over which we search for the best action\n",
    "    search_set = np.linspace(myenv.xmin,myenv.xmax,1000)\n",
    "    \n",
    "    \n",
    "    for t in range(1,T):\n",
    "        gp = FitGP(myenv,kernel)\n",
    "        #sample a function from the posterior, evaluate over search_set\n",
    "        posterior_sample = gp.sample_y(search_set.reshape(-1, 1))[:,0]\n",
    "        #play x with the largest function value\n",
    "        myx_index = np.argmax(posterior_sample)\n",
    "        myx = search_set[myx_index]\n",
    "        y = myenv.play(myx)\n",
    "        rew[t] = y\n",
    "        reg[t] = myenv.maxrew - myenv.f(myx)\n",
    "\n",
    "    return rew, reg"
   ]
  },
  {
   "cell_type": "markdown",
   "id": "98560660",
   "metadata": {},
   "source": [
    "## Expected Improvement"
   ]
  },
  {
   "cell_type": "code",
   "execution_count": null,
   "id": "7944f76d",
   "metadata": {},
   "outputs": [],
   "source": [
    "#computes expected improvement acquisition function at x\n",
    "def EI(gp, x, T, GPEnv, fstar):\n",
    "    #standard normal distribution\n",
    "    rv = normal(0,1)\n",
    "    #find mean and sd at x\n",
    "    mean, sd = gp.predict(np.array(x).reshape(-1,1), return_std=True)\n",
    "    #calculate acquisition function A at x\n",
    "    A = max(mean-fstar,0) + sd*rv.pdf((mean-fstar)/sd) - np.absolute(mean-fstar)*rv.cdf((mean-fstar)/sd)\n",
    "    return A\n",
    "\n",
    "#runs expected improvement function with above acquisition function\n",
    "def GP_ExpectedImprovement(T,GPEnv,xmin,xmax,kernel=kernel0):\n",
    "    myenv = GPEnv\n",
    "    myenv.reset()\n",
    "    \n",
    "    # first sample must be random\n",
    "    x = np.random.uniform(xmin,xmax)\n",
    "    y = myenv.play(x)\n",
    "    \n",
    "    rew = np.zeros(T) \n",
    "    reg = np.zeros(T) \n",
    "    rew[0] = y\n",
    "    reg[0] = myenv.maxrew - myenv.f(x)\n",
    "    \n",
    "    \n",
    "    for t in range(1,T):\n",
    "        gp = FitGP(myenv,kernel)\n",
    "        #choose x with the largest EI\n",
    "        fstar = max(myenv.yhist)\n",
    "        myx = fminbound(lambda x: -EI(gp,x,T,myenv,fstar),xmin,xmax)\n",
    "        y = myenv.play(myx)\n",
    "        rew[t] = y\n",
    "        reg[t] = myenv.maxrew - myenv.f(myx)\n",
    "\n",
    "    return rew, reg"
   ]
  }
 ],
 "metadata": {
  "kernelspec": {
   "display_name": "Python 3 (ipykernel)",
   "language": "python",
   "name": "python3"
  },
  "language_info": {
   "codemirror_mode": {
    "name": "ipython",
    "version": 3
   },
   "file_extension": ".py",
   "mimetype": "text/x-python",
   "name": "python",
   "nbconvert_exporter": "python",
   "pygments_lexer": "ipython3",
   "version": "3.7.7"
  },
  "toc": {
   "base_numbering": 1,
   "nav_menu": {},
   "number_sections": true,
   "sideBar": true,
   "skip_h1_title": false,
   "title_cell": "Table of Contents",
   "title_sidebar": "Contents",
   "toc_cell": false,
   "toc_position": {},
   "toc_section_display": true,
   "toc_window_display": false
  }
 },
 "nbformat": 4,
 "nbformat_minor": 5
}
